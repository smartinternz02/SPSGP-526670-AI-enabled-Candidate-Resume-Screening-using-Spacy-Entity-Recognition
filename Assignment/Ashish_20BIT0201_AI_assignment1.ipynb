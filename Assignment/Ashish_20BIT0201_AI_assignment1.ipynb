{
  "metadata": {
    "language_info": {
      "codemirror_mode": {
        "name": "python",
        "version": 3
      },
      "file_extension": ".py",
      "mimetype": "text/x-python",
      "name": "python",
      "nbconvert_exporter": "python",
      "pygments_lexer": "ipython3",
      "version": "3.8"
    },
    "kernelspec": {
      "name": "python",
      "display_name": "Python (Pyodide)",
      "language": "python"
    },
    "colab": {
      "provenance": []
    }
  },
  "nbformat_minor": 0,
  "nbformat": 4,
  "cells": [
    {
      "cell_type": "code",
      "source": [
        "import pandas as pd\n",
        "import numpy as np\n",
        "np.random.seed(42)\n",
        "data = np.random.rand(4, 4)\n",
        "df = pd.DataFrame(data, columns=['Feature1', 'Feature2', 'Feature3', 'Feature4'])\n",
        "print(df)\n"
      ],
      "metadata": {
        "trusted": true,
        "id": "R4rAHatGjtFS",
        "outputId": "f638b47e-ef3e-4260-b46f-fa6a9b0ade94"
      },
      "execution_count": null,
      "outputs": [
        {
          "name": "stdout",
          "text": "   Feature1  Feature2  Feature3  Feature4\n0  0.374540  0.950714  0.731994  0.598658\n1  0.156019  0.155995  0.058084  0.866176\n2  0.601115  0.708073  0.020584  0.969910\n3  0.832443  0.212339  0.181825  0.183405\n",
          "output_type": "stream"
        }
      ]
    },
    {
      "cell_type": "code",
      "source": [
        "df = df.rename(columns={'Feature1': 'Random value 1',\n",
        "                        'Feature2': 'Random value 2',\n",
        "                        'Feature3': 'Random value 3',\n",
        "                        'Feature4': 'Random value 4'})\n",
        "print(df)"
      ],
      "metadata": {
        "trusted": true,
        "id": "Ha2lZb1vjtFU",
        "outputId": "b8e29256-7b99-4025-d211-245cbaba0e32"
      },
      "execution_count": null,
      "outputs": [
        {
          "name": "stdout",
          "text": "   Random value 1  Random value 2  Random value 3  Random value 4\n0        0.374540        0.950714        0.731994        0.598658\n1        0.156019        0.155995        0.058084        0.866176\n2        0.601115        0.708073        0.020584        0.969910\n3        0.832443        0.212339        0.181825        0.183405\n",
          "output_type": "stream"
        }
      ]
    },
    {
      "cell_type": "code",
      "source": [
        "statistics = df.describe()\n",
        "print(statistics)"
      ],
      "metadata": {
        "trusted": true,
        "id": "LZpvPLMYjtFV",
        "outputId": "314273aa-6143-4c2b-f660-9a42b7247594"
      },
      "execution_count": null,
      "outputs": [
        {
          "name": "stdout",
          "text": "       Random value 1  Random value 2  Random value 3  Random value 4\ncount        4.000000        4.000000        4.000000        4.000000\nmean         0.491029        0.506780        0.248122        0.654537\nstd          0.291252        0.386153        0.329856        0.350875\nmin          0.156019        0.155995        0.020584        0.183405\n25%          0.319910        0.198253        0.048709        0.494845\n50%          0.487828        0.460206        0.119954        0.732417\n75%          0.658947        0.768733        0.319367        0.892110\nmax          0.832443        0.950714        0.731994        0.969910\n",
          "output_type": "stream"
        }
      ]
    },
    {
      "cell_type": "code",
      "source": [
        "null_values = df.isnull().sum()\n",
        "data_types = df.dtypes\n",
        "print(\"Null Values:\")\n",
        "print(null_values)\n",
        "print(\"\\nData Types:\")\n",
        "print(data_types)"
      ],
      "metadata": {
        "trusted": true,
        "id": "BKRqhweNjtFV",
        "outputId": "0e020544-b2b5-4155-acb7-50635beb30e2"
      },
      "execution_count": null,
      "outputs": [
        {
          "name": "stdout",
          "text": "Null Values:\nRandom value 1    0\nRandom value 2    0\nRandom value 3    0\nRandom value 4    0\ndtype: int64\n\nData Types:\nRandom value 1    float64\nRandom value 2    float64\nRandom value 3    float64\nRandom value 4    float64\ndtype: object\n",
          "output_type": "stream"
        }
      ]
    },
    {
      "cell_type": "code",
      "source": [
        "loc_columns = df.loc[:, ['Random value 2', 'Random value 3']]\n",
        "print(\"Columns using loc[]:\")\n",
        "print(loc_columns)\n",
        "iloc_columns = df.iloc[:, [1, 2]]\n",
        "print(\"\\nColumns using iloc[]:\")\n",
        "print(iloc_columns)"
      ],
      "metadata": {
        "trusted": true,
        "id": "lozNlE0tjtFW",
        "outputId": "66f0e076-ab8b-4712-ce8e-0510f0bd8b20"
      },
      "execution_count": null,
      "outputs": [
        {
          "name": "stdout",
          "text": "Columns using loc[]:\n   Random value 2  Random value 3\n0        0.950714        0.731994\n1        0.155995        0.058084\n2        0.708073        0.020584\n3        0.212339        0.181825\n\nColumns using iloc[]:\n   Random value 2  Random value 3\n0        0.950714        0.731994\n1        0.155995        0.058084\n2        0.708073        0.020584\n3        0.212339        0.181825\n",
          "output_type": "stream"
        }
      ]
    },
    {
      "cell_type": "code",
      "source": [],
      "metadata": {
        "id": "_3CHBFXWjtFW"
      },
      "execution_count": null,
      "outputs": []
    }
  ]
}