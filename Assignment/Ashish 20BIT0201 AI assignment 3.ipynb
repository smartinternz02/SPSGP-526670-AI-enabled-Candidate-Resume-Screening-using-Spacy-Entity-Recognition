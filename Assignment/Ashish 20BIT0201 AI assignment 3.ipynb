{
  "cells": [
    {
      "cell_type": "markdown",
      "metadata": {
        "id": "vJh5Q8JiaAID"
      },
      "source": [
        "## **ARYAN SHARMA (20BEC0723)**\n",
        "\n",
        "---\n",
        "# ASSIGNMENT - 3\n"
      ]
    },
    {
      "cell_type": "code",
      "execution_count": null,
      "metadata": {
        "colab": {
          "base_uri": "https://localhost:8080/"
        },
        "id": "0dNYSnAZ3dqt",
        "outputId": "3b513b4c-b81e-4ff7-90e3-cdc8dc309723"
      },
      "outputs": [
        {
          "name": "stdout",
          "output_type": "stream",
          "text": [
            "Mounted at /content/gdrive/\n"
          ]
        }
      ],
      "source": [
        "#UPLOADING DATA SET FROM DRIVE\n",
        "#GIVING DRIVE ACCESS TO COLAB\n",
        "from google.colab import drive\n",
        "\n",
        "drive.mount('/content/gdrive/', force_remount=True)"
      ]
    },
    {
      "cell_type": "code",
      "execution_count": null,
      "metadata": {
        "id": "Nt5o28vhKZCT"
      },
      "outputs": [],
      "source": [
        "from tensorflow.keras.preprocessing.image import ImageDataGenerator"
      ]
    },
    {
      "cell_type": "code",
      "execution_count": null,
      "metadata": {
        "id": "1gS_ABXAKorw"
      },
      "outputs": [],
      "source": [
        "train_gen=ImageDataGenerator(rescale=(1./255),horizontal_flip=True,shear_range=0.2)\n",
        "test_gen=ImageDataGenerator(rescale=(1./255))"
      ]
    },
    {
      "cell_type": "code",
      "execution_count": null,
      "metadata": {
        "colab": {
          "base_uri": "https://localhost:8080/"
        },
        "id": "CrFGcd4QK4iK",
        "outputId": "db5f4835-7dd5-4868-a3d3-c6a90e9fb797"
      },
      "outputs": [
        {
          "name": "stdout",
          "output_type": "stream",
          "text": [
            "Found 150 images belonging to 16 classes.\n",
            "Found 157 images belonging to 16 classes.\n"
          ]
        }
      ],
      "source": [
        "train=train_gen.flow_from_directory('/content/gdrive/MyDrive/BIRDS/train_data/train_data', target_size=(120,120),class_mode='categorical',batch_size=8)\n",
        "test=test_gen.flow_from_directory('/content/gdrive/MyDrive/BIRDS/test_data/test_data', target_size=(120,120),class_mode='categorical',batch_size=8)"
      ]
    },
    {
      "cell_type": "code",
      "execution_count": null,
      "metadata": {
        "colab": {
          "base_uri": "https://localhost:8080/"
        },
        "id": "-Rh6rLHQLVfu",
        "outputId": "4f066fd3-2ab3-4a8e-bd68-ae1e4ef1052a"
      },
      "outputs": [
        {
          "data": {
            "text/plain": [
              "{'blasti': 0,\n",
              " 'bonegl': 1,\n",
              " 'brhkyt': 2,\n",
              " 'cbrtsh': 3,\n",
              " 'cmnmyn': 4,\n",
              " 'gretit': 5,\n",
              " 'hilpig': 6,\n",
              " 'himbul': 7,\n",
              " 'himgri': 8,\n",
              " 'hsparo': 9,\n",
              " 'indvul': 10,\n",
              " 'jglowl': 11,\n",
              " 'lbicrw': 12,\n",
              " 'mgprob': 13,\n",
              " 'rebimg': 14,\n",
              " 'wcrsrt': 15}"
            ]
          },
          "execution_count": 13,
          "metadata": {},
          "output_type": "execute_result"
        }
      ],
      "source": [
        "train.class_indices"
      ]
    },
    {
      "cell_type": "code",
      "execution_count": null,
      "metadata": {
        "id": "Nk4nx7u2LZc5"
      },
      "outputs": [],
      "source": [
        "from tensorflow.keras.layers import Convolution2D, MaxPooling2D, Flatten, Dense\n",
        "from tensorflow.keras.models import Sequential"
      ]
    },
    {
      "cell_type": "code",
      "execution_count": null,
      "metadata": {
        "id": "M2-Kq6_lLt-o"
      },
      "outputs": [],
      "source": [
        "model = Sequential()\n",
        "model.add(Convolution2D(20,(3,3),activation='relu',input_shape=(120, 120, 3)))\n",
        "model.add(MaxPooling2D(pool_size=(2,2)))\n",
        "model.add(Flatten())\n",
        "model.add(Dense(45,activation='relu'))\n",
        "model.add(Dense(16,activation='softmax'))"
      ]
    },
    {
      "cell_type": "code",
      "execution_count": null,
      "metadata": {
        "id": "ulxXqRud5MHk"
      },
      "outputs": [],
      "source": [
        "model.compile(optimizer='adam',loss='categorical_crossentropy',metrics=['accuracy'])"
      ]
    },
    {
      "cell_type": "code",
      "execution_count": null,
      "metadata": {
        "colab": {
          "background_save": true,
          "base_uri": "https://localhost:8080/"
        },
        "id": "bdxpuK_O5Qv3",
        "outputId": "3512be5a-b5c5-422e-db19-36e522d46cdf"
      },
      "outputs": [
        {
          "name": "stdout",
          "output_type": "stream",
          "text": [
            "Epoch 1/10\n",
            "19/19 [==============================] - 256s 14s/step - loss: 5.3879 - accuracy: 0.1200 - val_loss: 2.7920 - val_accuracy: 0.0382\n",
            "Epoch 2/10\n",
            "19/19 [==============================] - 128s 7s/step - loss: 2.7772 - accuracy: 0.0600 - val_loss: 2.7842 - val_accuracy: 0.0446\n",
            "Epoch 3/10\n",
            "19/19 [==============================] - 128s 7s/step - loss: 2.6481 - accuracy: 0.1267 - val_loss: 2.7825 - val_accuracy: 0.1529\n",
            "Epoch 4/10\n",
            "19/19 [==============================] - 129s 7s/step - loss: 2.4505 - accuracy: 0.2000 - val_loss: 2.6781 - val_accuracy: 0.0892\n",
            "Epoch 5/10\n",
            "19/19 [==============================] - 117s 6s/step - loss: 2.4009 - accuracy: 0.2067 - val_loss: 2.6503 - val_accuracy: 0.1019\n",
            "Epoch 6/10\n",
            "19/19 [==============================] - 132s 7s/step - loss: 2.3611 - accuracy: 0.1800 - val_loss: 2.8070 - val_accuracy: 0.1274\n",
            "Epoch 7/10\n",
            "19/19 [==============================] - 108s 6s/step - loss: 2.2345 - accuracy: 0.2467 - val_loss: 2.7606 - val_accuracy: 0.1529\n",
            "Epoch 8/10\n",
            "19/19 [==============================] - 128s 7s/step - loss: 2.1136 - accuracy: 0.2533 - val_loss: 2.8089 - val_accuracy: 0.1656\n",
            "Epoch 9/10\n",
            "19/19 [==============================] - 128s 7s/step - loss: 2.0540 - accuracy: 0.2600 - val_loss: 2.8371 - val_accuracy: 0.1019\n",
            "Epoch 10/10\n",
            "19/19 [==============================] - 133s 7s/step - loss: 1.9922 - accuracy: 0.2933 - val_loss: 2.8179 - val_accuracy: 0.1401\n"
          ]
        },
        {
          "data": {
            "text/plain": [
              "<keras.callbacks.History at 0x7fa49059c1c0>"
            ]
          },
          "execution_count": 17,
          "metadata": {},
          "output_type": "execute_result"
        }
      ],
      "source": [
        "model.fit(train,batch_size=8,validation_data=test,epochs=10)"
      ]
    },
    {
      "cell_type": "code",
      "execution_count": null,
      "metadata": {
        "colab": {
          "background_save": true
        },
        "id": "9rF2-FUn6UW4",
        "outputId": "ad8636b9-375d-4688-fd23-4067345a4a65"
      },
      "outputs": [
        {
          "name": "stdout",
          "output_type": "stream",
          "text": [
            "Model: \"sequential\"\n",
            "_________________________________________________________________\n",
            " Layer (type)                Output Shape              Param #   \n",
            "=================================================================\n",
            " conv2d (Conv2D)             (None, 118, 118, 20)      560       \n",
            "                                                                 \n",
            " max_pooling2d (MaxPooling2D  (None, 59, 59, 20)       0         \n",
            " )                                                               \n",
            "                                                                 \n",
            " flatten (Flatten)           (None, 69620)             0         \n",
            "                                                                 \n",
            " dense (Dense)               (None, 45)                3132945   \n",
            "                                                                 \n",
            " dense_1 (Dense)             (None, 16)                736       \n",
            "                                                                 \n",
            "=================================================================\n",
            "Total params: 3,134,241\n",
            "Trainable params: 3,134,241\n",
            "Non-trainable params: 0\n",
            "_________________________________________________________________\n"
          ]
        }
      ],
      "source": [
        "model.summary()"
      ]
    },
    {
      "cell_type": "code",
      "execution_count": null,
      "metadata": {
        "colab": {
          "background_save": true
        },
        "id": "wG0iZShw5Smu"
      },
      "outputs": [],
      "source": [
        "\n",
        "model = Sequential()\n",
        "model.add(Convolution2D(12,(3,3),activation='relu',input_shape=(120, 120, 3)))\n",
        "model.add(MaxPooling2D(pool_size=(2,2)))\n",
        "model.add(Convolution2D(24,(3,3),activation='relu'))\n",
        "model.add(MaxPooling2D(pool_size=(2,2)))\n",
        "model.add(Convolution2D(36,(3,3),activation='relu'))\n",
        "model.add(MaxPooling2D(pool_size=(2,2)))\n",
        "model.add(Flatten())\n",
        "model.add(Dense(62,activation='relu'))\n",
        "model.add(Dense(32,activation='relu'))\n",
        "model.add(Dense(16,activation='softmax'))"
      ]
    },
    {
      "cell_type": "code",
      "execution_count": null,
      "metadata": {
        "colab": {
          "background_save": true
        },
        "id": "JcYCg2_GAxQ1",
        "outputId": "4005e9c1-f7c9-40fe-b47b-fda29c7e57f1"
      },
      "outputs": [
        {
          "name": "stdout",
          "output_type": "stream",
          "text": [
            "Model: \"sequential_1\"\n",
            "_________________________________________________________________\n",
            " Layer (type)                Output Shape              Param #   \n",
            "=================================================================\n",
            " conv2d_1 (Conv2D)           (None, 118, 118, 12)      336       \n",
            "                                                                 \n",
            " max_pooling2d_1 (MaxPooling  (None, 59, 59, 12)       0         \n",
            " 2D)                                                             \n",
            "                                                                 \n",
            " conv2d_2 (Conv2D)           (None, 57, 57, 24)        2616      \n",
            "                                                                 \n",
            " max_pooling2d_2 (MaxPooling  (None, 28, 28, 24)       0         \n",
            " 2D)                                                             \n",
            "                                                                 \n",
            " conv2d_3 (Conv2D)           (None, 26, 26, 36)        7812      \n",
            "                                                                 \n",
            " max_pooling2d_3 (MaxPooling  (None, 13, 13, 36)       0         \n",
            " 2D)                                                             \n",
            "                                                                 \n",
            " flatten_1 (Flatten)         (None, 6084)              0         \n",
            "                                                                 \n",
            " dense_2 (Dense)             (None, 62)                377270    \n",
            "                                                                 \n",
            " dense_3 (Dense)             (None, 32)                2016      \n",
            "                                                                 \n",
            " dense_4 (Dense)             (None, 16)                528       \n",
            "                                                                 \n",
            "=================================================================\n",
            "Total params: 390,578\n",
            "Trainable params: 390,578\n",
            "Non-trainable params: 0\n",
            "_________________________________________________________________\n"
          ]
        }
      ],
      "source": [
        "model.summary()"
      ]
    },
    {
      "cell_type": "code",
      "execution_count": null,
      "metadata": {
        "colab": {
          "background_save": true
        },
        "id": "rym-7rfTA22K"
      },
      "outputs": [],
      "source": [
        "model.compile(optimizer='adam',loss='categorical_crossentropy',metrics=['accuracy'])"
      ]
    },
    {
      "cell_type": "code",
      "execution_count": null,
      "metadata": {
        "id": "nCFwvRSbBBOX"
      },
      "outputs": [],
      "source": [
        "model.fit(train,batch_size=8,validation_data=test,epochs=25)"
      ]
    },
    {
      "cell_type": "code",
      "execution_count": null,
      "metadata": {
        "id": "s5RPUETlR_Ye"
      },
      "outputs": [],
      "source": [
        "\n",
        "# Testing\n",
        "\n",
        "import numpy as np\n",
        "from tensorflow.keras.preprocessing import image"
      ]
    },
    {
      "cell_type": "code",
      "execution_count": null,
      "metadata": {
        "colab": {
          "base_uri": "https://localhost:8080/",
          "height": 137
        },
        "id": "FG_BIXkABEh7",
        "outputId": "8fd83bdd-e18a-4955-cc94-8aa6b414d383"
      },
      "outputs": [
        {
          "output_type": "execute_result",
          "data": {
            "text/plain": [
              "<PIL.Image.Image image mode=RGB size=120x120 at 0x7FA489E7B250>"
            ],
            "image/png": "[encoded data removed]"
          },
          "metadata": {},
          "execution_count": 31
        }
      ],
      "source": [
        "# Testing 1\n",
        "img1 = image.load_img('/content/hawk.jpeg',target_size=(120,120))\n",
        "img1"
      ]
    },
    {
      "cell_type": "code",
      "execution_count": null,
      "metadata": {
        "colab": {
          "base_uri": "https://localhost:8080/"
        },
        "id": "Cp_cWPXOR4xO",
        "outputId": "3c7f4621-6285-4db0-c154-b21fb33d63ba"
      },
      "outputs": [
        {
          "output_type": "stream",
          "name": "stdout",
          "text": [
            "1/1 [==============================] - 0s 26ms/step\n",
            "1\n",
            "bonegl\n"
          ]
        }
      ],
      "source": [
        "img1 = image.img_to_array(img1)\n",
        "img1 = np.expand_dims(img1,axis=0)\n",
        "pred = np.argmax(model.predict(img1))\n",
        "print(pred)\n",
        "output = ['blasti','bonegl','brhkyt', 'cbrtsh', 'cmnmyn', 'gretit', 'hilpig', 'himbul', 'himgri', 'hsparo', 'indvul', 'jglowl', 'lbicrw', 'mgprob', 'rebimg', 'wcrsrt']\n",
        "print(output[pred])"
      ]
    },
    {
      "cell_type": "code",
      "execution_count": null,
      "metadata": {
        "colab": {
          "background_save": true
        },
        "id": "YfglpMRIUIaD"
      },
      "outputs": [],
      "source": [
        "# Testing 2\n",
        "img2 = image.load_img('/content/_D32_10251.jpg',target_size=(120,120))\n",
        "img2"
      ]
    },
    {
      "cell_type": "code",
      "execution_count": null,
      "metadata": {
        "colab": {
          "background_save": true
        },
        "id": "xifBAaUMXJxC"
      },
      "outputs": [],
      "source": [
        "img2 = image.img_to_array(img2)\n",
        "img2 = np.expand_dims(img2,axis=0)\n",
        "pred = np.argmax(model.predict(img2))\n",
        "print(pred)\n",
        "output = ['blasti','bonegl','brhkyt', 'cbrtsh', 'cmnmyn', 'gretit', 'hilpig', 'himbul', 'himgri', 'hsparo', 'indvul', 'jglowl', 'lbicrw', 'mgprob', 'rebimg', 'wcrsrt']\n",
        "print(output[pred])"
      ]
    },
    {
      "cell_type": "code",
      "execution_count": null,
      "metadata": {
        "id": "1G2u5mjaXT2G"
      },
      "outputs": [],
      "source": [
        "# Testing 3\n",
        "img3 = image.load_img('/content/gdrive/MyDrive/BIRDS/train_data/train_data/blasti/DSC_6382.jpg',target_size=(120,120))\n",
        "img3"
      ]
    },
    {
      "cell_type": "code",
      "execution_count": null,
      "metadata": {
        "id": "IvDpZ03eX7oy"
      },
      "outputs": [],
      "source": [
        "img3 = image.img_to_array(img3)\n",
        "img3 = np.expand_dims(img3,axis=0)\n",
        "pred = np.argmax(model.predict(img3))\n",
        "print(pred)\n",
        "output = ['blasti','bonegl','brhkyt', 'cbrtsh', 'cmnmyn', 'gretit', 'hilpig', 'himbul', 'himgri', 'hsparo', 'indvul', 'jglowl', 'lbicrw', 'mgprob', 'rebimg', 'wcrsrt']\n",
        "print(output[pred])"
      ]
    },
    {
      "cell_type": "code",
      "execution_count": null,
      "metadata": {
        "id": "lbuS1FM0Ywol"
      },
      "outputs": [],
      "source": []
    }
  ],
  "metadata": {
    "colab": {
      "provenance": []
    },
    "kernelspec": {
      "display_name": "Python 3",
      "name": "python3"
    },
    "language_info": {
      "name": "python"
    }
  },
  "nbformat": 4,
  "nbformat_minor": 0
}